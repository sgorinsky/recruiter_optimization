{
 "cells": [
  {
   "cell_type": "markdown",
   "metadata": {},
   "source": [
    "## Importing dependencies"
   ]
  },
  {
   "cell_type": "code",
   "execution_count": 1,
   "metadata": {},
   "outputs": [],
   "source": [
    "import pandas as pd\n",
    "import numpy as np\n",
    "import statistics"
   ]
  },
  {
   "cell_type": "markdown",
   "metadata": {},
   "source": [
    "## Constructing dataframe from data"
   ]
  },
  {
   "cell_type": "code",
   "execution_count": 2,
   "metadata": {},
   "outputs": [
    {
     "name": "stdout",
     "output_type": "stream",
     "text": [
      "            Unnamed: 0   Unnamed: 1 Unnamed: 2 Unnamed: 3 Unnamed: 4\n",
      "0           PhoneMonth    Recruiter       Job       Phone   Accepted\n",
      "1  2017-04-01 00:00:00  Recruiter 1      Job A          1          0\n",
      "2  2017-05-01 00:00:00  Recruiter 1      Job A          1          0\n",
      "3  2017-06-01 00:00:00  Recruiter 1      Job A          2          0\n",
      "4  2017-08-01 00:00:00  Recruiter 1      Job A          6          3\n"
     ]
    }
   ],
   "source": [
    "raw_excel= pd.ExcelFile('final_data.xlsx')\n",
    "df = pd.read_excel(raw_excel)\n",
    "\n",
    "df = df.iloc[:,:5]\n",
    "print(df.head())"
   ]
  },
  {
   "cell_type": "markdown",
   "metadata": {},
   "source": [
    "# Exploratory Analysis"
   ]
  },
  {
   "cell_type": "code",
   "execution_count": 3,
   "metadata": {},
   "outputs": [
    {
     "data": {
      "text/html": [
       "<div>\n",
       "<style scoped>\n",
       "    .dataframe tbody tr th:only-of-type {\n",
       "        vertical-align: middle;\n",
       "    }\n",
       "\n",
       "    .dataframe tbody tr th {\n",
       "        vertical-align: top;\n",
       "    }\n",
       "\n",
       "    .dataframe thead th {\n",
       "        text-align: right;\n",
       "    }\n",
       "</style>\n",
       "<table border=\"1\" class=\"dataframe\">\n",
       "  <thead>\n",
       "    <tr style=\"text-align: right;\">\n",
       "      <th></th>\n",
       "      <th>Unnamed: 0</th>\n",
       "      <th>Unnamed: 1</th>\n",
       "      <th>Unnamed: 2</th>\n",
       "      <th>Unnamed: 3</th>\n",
       "      <th>Unnamed: 4</th>\n",
       "    </tr>\n",
       "  </thead>\n",
       "  <tbody>\n",
       "    <tr>\n",
       "      <th>0</th>\n",
       "      <td>PhoneMonth</td>\n",
       "      <td>Recruiter</td>\n",
       "      <td>Job</td>\n",
       "      <td>Phone</td>\n",
       "      <td>Accepted</td>\n",
       "    </tr>\n",
       "    <tr>\n",
       "      <th>1</th>\n",
       "      <td>2017-04-01 00:00:00</td>\n",
       "      <td>Recruiter 1</td>\n",
       "      <td>Job A</td>\n",
       "      <td>1</td>\n",
       "      <td>0</td>\n",
       "    </tr>\n",
       "    <tr>\n",
       "      <th>2</th>\n",
       "      <td>2017-05-01 00:00:00</td>\n",
       "      <td>Recruiter 1</td>\n",
       "      <td>Job A</td>\n",
       "      <td>1</td>\n",
       "      <td>0</td>\n",
       "    </tr>\n",
       "    <tr>\n",
       "      <th>3</th>\n",
       "      <td>2017-06-01 00:00:00</td>\n",
       "      <td>Recruiter 1</td>\n",
       "      <td>Job A</td>\n",
       "      <td>2</td>\n",
       "      <td>0</td>\n",
       "    </tr>\n",
       "    <tr>\n",
       "      <th>4</th>\n",
       "      <td>2017-08-01 00:00:00</td>\n",
       "      <td>Recruiter 1</td>\n",
       "      <td>Job A</td>\n",
       "      <td>6</td>\n",
       "      <td>3</td>\n",
       "    </tr>\n",
       "  </tbody>\n",
       "</table>\n",
       "</div>"
      ],
      "text/plain": [
       "            Unnamed: 0   Unnamed: 1 Unnamed: 2 Unnamed: 3 Unnamed: 4\n",
       "0           PhoneMonth    Recruiter       Job       Phone   Accepted\n",
       "1  2017-04-01 00:00:00  Recruiter 1      Job A          1          0\n",
       "2  2017-05-01 00:00:00  Recruiter 1      Job A          1          0\n",
       "3  2017-06-01 00:00:00  Recruiter 1      Job A          2          0\n",
       "4  2017-08-01 00:00:00  Recruiter 1      Job A          6          3"
      ]
     },
     "execution_count": 3,
     "metadata": {},
     "output_type": "execute_result"
    }
   ],
   "source": [
    "df.head()"
   ]
  },
  {
   "cell_type": "code",
   "execution_count": 4,
   "metadata": {},
   "outputs": [],
   "source": [
    "# since there are unnecessary NaN cols from excel, we want to take those out\n",
    "cols = ['month', 'recruiter', 'job', 'phone', 'num_accepted?']\n",
    "df.columns = cols"
   ]
  },
  {
   "cell_type": "code",
   "execution_count": 5,
   "metadata": {},
   "outputs": [],
   "source": [
    "df = df.iloc[1:]"
   ]
  },
  {
   "cell_type": "code",
   "execution_count": 6,
   "metadata": {},
   "outputs": [
    {
     "data": {
      "text/plain": [
       "Index(['month', 'recruiter', 'job', 'phone', 'num_accepted?'], dtype='object')"
      ]
     },
     "execution_count": 6,
     "metadata": {},
     "output_type": "execute_result"
    }
   ],
   "source": [
    "df.columns"
   ]
  },
  {
   "cell_type": "markdown",
   "metadata": {},
   "source": [
    "### Recruiter ratios"
   ]
  },
  {
   "cell_type": "code",
   "execution_count": 7,
   "metadata": {},
   "outputs": [],
   "source": [
    "rec = []\n",
    "for i in range(1, 6):\n",
    "    curr_recruiter = f'Recruiter {i}'\n",
    "    rec.append(df[df['recruiter'] == curr_recruiter])"
   ]
  },
  {
   "cell_type": "code",
   "execution_count": 8,
   "metadata": {},
   "outputs": [
    {
     "data": {
      "text/html": [
       "<div>\n",
       "<style scoped>\n",
       "    .dataframe tbody tr th:only-of-type {\n",
       "        vertical-align: middle;\n",
       "    }\n",
       "\n",
       "    .dataframe tbody tr th {\n",
       "        vertical-align: top;\n",
       "    }\n",
       "\n",
       "    .dataframe thead th {\n",
       "        text-align: right;\n",
       "    }\n",
       "</style>\n",
       "<table border=\"1\" class=\"dataframe\">\n",
       "  <thead>\n",
       "    <tr style=\"text-align: right;\">\n",
       "      <th></th>\n",
       "      <th>month</th>\n",
       "      <th>recruiter</th>\n",
       "      <th>job</th>\n",
       "      <th>phone</th>\n",
       "      <th>num_accepted?</th>\n",
       "    </tr>\n",
       "  </thead>\n",
       "  <tbody>\n",
       "    <tr>\n",
       "      <th>1</th>\n",
       "      <td>2017-04-01 00:00:00</td>\n",
       "      <td>Recruiter 1</td>\n",
       "      <td>Job A</td>\n",
       "      <td>1</td>\n",
       "      <td>0</td>\n",
       "    </tr>\n",
       "    <tr>\n",
       "      <th>2</th>\n",
       "      <td>2017-05-01 00:00:00</td>\n",
       "      <td>Recruiter 1</td>\n",
       "      <td>Job A</td>\n",
       "      <td>1</td>\n",
       "      <td>0</td>\n",
       "    </tr>\n",
       "    <tr>\n",
       "      <th>3</th>\n",
       "      <td>2017-06-01 00:00:00</td>\n",
       "      <td>Recruiter 1</td>\n",
       "      <td>Job A</td>\n",
       "      <td>2</td>\n",
       "      <td>0</td>\n",
       "    </tr>\n",
       "    <tr>\n",
       "      <th>4</th>\n",
       "      <td>2017-08-01 00:00:00</td>\n",
       "      <td>Recruiter 1</td>\n",
       "      <td>Job A</td>\n",
       "      <td>6</td>\n",
       "      <td>3</td>\n",
       "    </tr>\n",
       "    <tr>\n",
       "      <th>5</th>\n",
       "      <td>2017-09-01 00:00:00</td>\n",
       "      <td>Recruiter 1</td>\n",
       "      <td>Job A</td>\n",
       "      <td>3</td>\n",
       "      <td>0</td>\n",
       "    </tr>\n",
       "  </tbody>\n",
       "</table>\n",
       "</div>"
      ],
      "text/plain": [
       "                 month    recruiter    job phone num_accepted?\n",
       "1  2017-04-01 00:00:00  Recruiter 1  Job A     1             0\n",
       "2  2017-05-01 00:00:00  Recruiter 1  Job A     1             0\n",
       "3  2017-06-01 00:00:00  Recruiter 1  Job A     2             0\n",
       "4  2017-08-01 00:00:00  Recruiter 1  Job A     6             3\n",
       "5  2017-09-01 00:00:00  Recruiter 1  Job A     3             0"
      ]
     },
     "execution_count": 8,
     "metadata": {},
     "output_type": "execute_result"
    }
   ],
   "source": [
    "# if you want to refer to a specific recruiter, rec[recruiter_no-1]\n",
    "# ie. recruiter 1\n",
    "rec[0].head()"
   ]
  },
  {
   "cell_type": "code",
   "execution_count": 9,
   "metadata": {},
   "outputs": [],
   "source": [
    "# accepted: phonecall ratios\n",
    "rec_ratios = []\n",
    "for i in range(5):\n",
    "    rec_ratios.append(rec[i]['num_accepted?'].sum()/ rec[i]['phone'].sum())"
   ]
  },
  {
   "cell_type": "code",
   "execution_count": 10,
   "metadata": {},
   "outputs": [
    {
     "name": "stdout",
     "output_type": "stream",
     "text": [
      "Recruiter conversion ratios by recruiter (1,2,3,4,5):\n",
      "[0.07096774193548387, 0.056666666666666664, 0.06208425720620843, 0.055408970976253295, 0.05474452554744526]\n",
      "\n",
      "Average recruiter ratio (in %): 5.99744324664115\n"
     ]
    }
   ],
   "source": [
    "print(f'Recruiter conversion ratios by recruiter (1,2,3,4,5):\\n{rec_ratios}\\n')\n",
    "avg_rec_ratio = sum(rec_ratios)/len(rec_ratios) # 5.997%\n",
    "print(f'Average recruiter ratio (in %): {avg_rec_ratio*100}')"
   ]
  },
  {
   "cell_type": "code",
   "execution_count": 11,
   "metadata": {},
   "outputs": [],
   "source": [
    "# let's show this as a percent because it's pretty low\n",
    "avg_perc = round(avg_rec_ratio*1000, 2)/10 # so around 6%, that is the conversion ratio\n"
   ]
  },
  {
   "cell_type": "markdown",
   "metadata": {},
   "source": [
    "### Job conversion ratios"
   ]
  },
  {
   "cell_type": "code",
   "execution_count": 12,
   "metadata": {},
   "outputs": [],
   "source": [
    "# let's find the conversion ratios for each job - A,B,C,D\n",
    "jobs = [df[df['job'] == 'Job {}'.format(chr(ord('A')+i))] for i in range(4)] "
   ]
  },
  {
   "cell_type": "code",
   "execution_count": 13,
   "metadata": {},
   "outputs": [],
   "source": [
    "job_conv_ratios = [jobs[i]['num_accepted?'].sum()/jobs[i]['phone'].sum() for i in range(4)]"
   ]
  },
  {
   "cell_type": "code",
   "execution_count": 14,
   "metadata": {},
   "outputs": [
    {
     "name": "stdout",
     "output_type": "stream",
     "text": [
      "Job conversion ratios by job (A,B,C,D): [0.08045977011494253, 0.0590851334180432, 0.04484304932735426, 0.03608247422680412]\n",
      "\n",
      "Average job conversion ratio: 5.512%\n"
     ]
    }
   ],
   "source": [
    "print(f'Job conversion ratios by job (A,B,C,D): {job_conv_ratios}\\n')\n",
    "avg_job_conv_ratios = round(1000*sum(job_conv_ratios)/len(job_conv_ratios),2)/10\n",
    "print(f'Average job conversion ratio: {avg_job_conv_ratios}%') # 4.41%, also pretty low\n"
   ]
  },
  {
   "cell_type": "markdown",
   "metadata": {},
   "source": [
    "#### Calculations of std for sensitivity analysis before we construct the model"
   ]
  },
  {
   "cell_type": "code",
   "execution_count": 15,
   "metadata": {},
   "outputs": [
    {
     "name": "stdout",
     "output_type": "stream",
     "text": [
      "Standard deviation for the recruiter ratios: 0.006790450888942972\n",
      "Standard deviation for the job conversion ratios: 0.019372397135133133\n"
     ]
    }
   ],
   "source": [
    "std_rec_ratios = statistics.stdev(rec_ratios)\n",
    "print(f'Standard deviation for the recruiter ratios: {std_rec_ratios}') # 0.679%\n",
    "\n",
    "std_job_conv_ratios = statistics.stdev(job_conv_ratios)\n",
    "print(f'Standard deviation for the job conversion ratios: {std_job_conv_ratios}') # 1.9%\n"
   ]
  },
  {
   "cell_type": "markdown",
   "metadata": {},
   "source": [
    "### Message success ratios by recruiter"
   ]
  },
  {
   "cell_type": "markdown",
   "metadata": {},
   "source": [
    "To even make a call, recruiters have to sift through tons of profiles from searches and send messages in order to even select candidates appropriate for a given position"
   ]
  },
  {
   "cell_type": "code",
   "execution_count": 16,
   "metadata": {},
   "outputs": [],
   "source": [
    "msg_data = pd.read_csv('message_data.csv')\n",
    "msg_data = msg_data.iloc[:,0:9] # throwing out unnamed NaN cols"
   ]
  },
  {
   "cell_type": "code",
   "execution_count": 17,
   "metadata": {},
   "outputs": [
    {
     "data": {
      "text/html": [
       "<div>\n",
       "<style scoped>\n",
       "    .dataframe tbody tr th:only-of-type {\n",
       "        vertical-align: middle;\n",
       "    }\n",
       "\n",
       "    .dataframe tbody tr th {\n",
       "        vertical-align: top;\n",
       "    }\n",
       "\n",
       "    .dataframe thead th {\n",
       "        text-align: right;\n",
       "    }\n",
       "</style>\n",
       "<table border=\"1\" class=\"dataframe\">\n",
       "  <thead>\n",
       "    <tr style=\"text-align: right;\">\n",
       "      <th></th>\n",
       "      <th>Seat holder</th>\n",
       "      <th>Month</th>\n",
       "      <th>Unique daily logins</th>\n",
       "      <th>Profiles viewed</th>\n",
       "      <th>Profiles saved</th>\n",
       "      <th>Searches performed</th>\n",
       "      <th>Messages sent</th>\n",
       "      <th>Messages accepted</th>\n",
       "      <th>Messages declined</th>\n",
       "    </tr>\n",
       "  </thead>\n",
       "  <tbody>\n",
       "    <tr>\n",
       "      <th>0</th>\n",
       "      <td>Recruiter 2</td>\n",
       "      <td>1/1/19</td>\n",
       "      <td>19</td>\n",
       "      <td>1633</td>\n",
       "      <td>101</td>\n",
       "      <td>101</td>\n",
       "      <td>24</td>\n",
       "      <td>1</td>\n",
       "      <td>0</td>\n",
       "    </tr>\n",
       "    <tr>\n",
       "      <th>1</th>\n",
       "      <td>Recruiter 4</td>\n",
       "      <td>1/1/19</td>\n",
       "      <td>18</td>\n",
       "      <td>262</td>\n",
       "      <td>267</td>\n",
       "      <td>41</td>\n",
       "      <td>49</td>\n",
       "      <td>19</td>\n",
       "      <td>4</td>\n",
       "    </tr>\n",
       "    <tr>\n",
       "      <th>2</th>\n",
       "      <td>Recruiter 3</td>\n",
       "      <td>1/1/19</td>\n",
       "      <td>22</td>\n",
       "      <td>223</td>\n",
       "      <td>156</td>\n",
       "      <td>27</td>\n",
       "      <td>126</td>\n",
       "      <td>18</td>\n",
       "      <td>2</td>\n",
       "    </tr>\n",
       "    <tr>\n",
       "      <th>3</th>\n",
       "      <td>Recruiter 5</td>\n",
       "      <td>1/1/19</td>\n",
       "      <td>22</td>\n",
       "      <td>101</td>\n",
       "      <td>185</td>\n",
       "      <td>45</td>\n",
       "      <td>139</td>\n",
       "      <td>46</td>\n",
       "      <td>9</td>\n",
       "    </tr>\n",
       "    <tr>\n",
       "      <th>4</th>\n",
       "      <td>Recruiter 1</td>\n",
       "      <td>1/1/19</td>\n",
       "      <td>20</td>\n",
       "      <td>117</td>\n",
       "      <td>57</td>\n",
       "      <td>90</td>\n",
       "      <td>255</td>\n",
       "      <td>41</td>\n",
       "      <td>26</td>\n",
       "    </tr>\n",
       "  </tbody>\n",
       "</table>\n",
       "</div>"
      ],
      "text/plain": [
       "   Seat holder   Month  Unique daily logins  Profiles viewed  Profiles saved  \\\n",
       "0  Recruiter 2  1/1/19                   19             1633             101   \n",
       "1  Recruiter 4  1/1/19                   18              262             267   \n",
       "2  Recruiter 3  1/1/19                   22              223             156   \n",
       "3  Recruiter 5  1/1/19                   22              101             185   \n",
       "4  Recruiter 1  1/1/19                   20              117              57   \n",
       "\n",
       "   Searches performed  Messages sent  Messages accepted  Messages declined  \n",
       "0                 101             24                  1                  0  \n",
       "1                  41             49                 19                  4  \n",
       "2                  27            126                 18                  2  \n",
       "3                  45            139                 46                  9  \n",
       "4                  90            255                 41                 26  "
      ]
     },
     "execution_count": 17,
     "metadata": {},
     "output_type": "execute_result"
    }
   ],
   "source": [
    "msg_data.head()"
   ]
  },
  {
   "cell_type": "code",
   "execution_count": 18,
   "metadata": {},
   "outputs": [
    {
     "data": {
      "text/html": [
       "<div>\n",
       "<style scoped>\n",
       "    .dataframe tbody tr th:only-of-type {\n",
       "        vertical-align: middle;\n",
       "    }\n",
       "\n",
       "    .dataframe tbody tr th {\n",
       "        vertical-align: top;\n",
       "    }\n",
       "\n",
       "    .dataframe thead th {\n",
       "        text-align: right;\n",
       "    }\n",
       "</style>\n",
       "<table border=\"1\" class=\"dataframe\">\n",
       "  <thead>\n",
       "    <tr style=\"text-align: right;\">\n",
       "      <th></th>\n",
       "      <th>Unique daily logins</th>\n",
       "      <th>Profiles viewed</th>\n",
       "      <th>Profiles saved</th>\n",
       "      <th>Searches performed</th>\n",
       "      <th>Messages sent</th>\n",
       "      <th>Messages accepted</th>\n",
       "      <th>Messages declined</th>\n",
       "    </tr>\n",
       "  </thead>\n",
       "  <tbody>\n",
       "    <tr>\n",
       "      <th>count</th>\n",
       "      <td>7.000000</td>\n",
       "      <td>7.000000</td>\n",
       "      <td>7.000000</td>\n",
       "      <td>7.000000</td>\n",
       "      <td>7.000000</td>\n",
       "      <td>7.00000</td>\n",
       "      <td>7.000000</td>\n",
       "    </tr>\n",
       "    <tr>\n",
       "      <th>mean</th>\n",
       "      <td>13.857143</td>\n",
       "      <td>56.857143</td>\n",
       "      <td>19.142857</td>\n",
       "      <td>30.571429</td>\n",
       "      <td>97.142857</td>\n",
       "      <td>20.00000</td>\n",
       "      <td>12.857143</td>\n",
       "    </tr>\n",
       "    <tr>\n",
       "      <th>std</th>\n",
       "      <td>4.947342</td>\n",
       "      <td>36.089835</td>\n",
       "      <td>20.538002</td>\n",
       "      <td>30.527895</td>\n",
       "      <td>86.260127</td>\n",
       "      <td>14.21267</td>\n",
       "      <td>12.266874</td>\n",
       "    </tr>\n",
       "    <tr>\n",
       "      <th>min</th>\n",
       "      <td>5.000000</td>\n",
       "      <td>6.000000</td>\n",
       "      <td>0.000000</td>\n",
       "      <td>0.000000</td>\n",
       "      <td>0.000000</td>\n",
       "      <td>0.00000</td>\n",
       "      <td>0.000000</td>\n",
       "    </tr>\n",
       "    <tr>\n",
       "      <th>25%</th>\n",
       "      <td>12.500000</td>\n",
       "      <td>39.500000</td>\n",
       "      <td>4.500000</td>\n",
       "      <td>10.000000</td>\n",
       "      <td>37.500000</td>\n",
       "      <td>12.50000</td>\n",
       "      <td>1.500000</td>\n",
       "    </tr>\n",
       "    <tr>\n",
       "      <th>50%</th>\n",
       "      <td>14.000000</td>\n",
       "      <td>47.000000</td>\n",
       "      <td>14.000000</td>\n",
       "      <td>28.000000</td>\n",
       "      <td>80.000000</td>\n",
       "      <td>14.00000</td>\n",
       "      <td>11.000000</td>\n",
       "    </tr>\n",
       "    <tr>\n",
       "      <th>75%</th>\n",
       "      <td>16.500000</td>\n",
       "      <td>74.500000</td>\n",
       "      <td>27.000000</td>\n",
       "      <td>38.000000</td>\n",
       "      <td>135.000000</td>\n",
       "      <td>30.00000</td>\n",
       "      <td>24.500000</td>\n",
       "    </tr>\n",
       "    <tr>\n",
       "      <th>max</th>\n",
       "      <td>20.000000</td>\n",
       "      <td>117.000000</td>\n",
       "      <td>57.000000</td>\n",
       "      <td>90.000000</td>\n",
       "      <td>255.000000</td>\n",
       "      <td>41.00000</td>\n",
       "      <td>27.000000</td>\n",
       "    </tr>\n",
       "  </tbody>\n",
       "</table>\n",
       "</div>"
      ],
      "text/plain": [
       "       Unique daily logins  Profiles viewed  Profiles saved  \\\n",
       "count             7.000000         7.000000        7.000000   \n",
       "mean             13.857143        56.857143       19.142857   \n",
       "std               4.947342        36.089835       20.538002   \n",
       "min               5.000000         6.000000        0.000000   \n",
       "25%              12.500000        39.500000        4.500000   \n",
       "50%              14.000000        47.000000       14.000000   \n",
       "75%              16.500000        74.500000       27.000000   \n",
       "max              20.000000       117.000000       57.000000   \n",
       "\n",
       "       Searches performed  Messages sent  Messages accepted  Messages declined  \n",
       "count            7.000000       7.000000            7.00000           7.000000  \n",
       "mean            30.571429      97.142857           20.00000          12.857143  \n",
       "std             30.527895      86.260127           14.21267          12.266874  \n",
       "min              0.000000       0.000000            0.00000           0.000000  \n",
       "25%             10.000000      37.500000           12.50000           1.500000  \n",
       "50%             28.000000      80.000000           14.00000          11.000000  \n",
       "75%             38.000000     135.000000           30.00000          24.500000  \n",
       "max             90.000000     255.000000           41.00000          27.000000  "
      ]
     },
     "execution_count": 18,
     "metadata": {},
     "output_type": "execute_result"
    }
   ],
   "source": [
    "# let's get some summary statistics by recruiter after we change 'Seat holder' to recruiter\n",
    "msg_data = msg_data.rename(columns={'Seat holder':'recruiter'})\n",
    "\n",
    "describe_by_recruiter = [msg_data[msg_data['recruiter'] == f'Recruiter {i}'].describe() for i in range(1, 6)]\n",
    "describe_by_recruiter[0]"
   ]
  },
  {
   "cell_type": "code",
   "execution_count": 19,
   "metadata": {},
   "outputs": [
    {
     "data": {
      "text/plain": [
       "{'recruiter 1':       recruiter   Month  Unique daily logins  Profiles viewed  Profiles saved  \\\n",
       " 4   Recruiter 1  1/1/19                   20              117              57   \n",
       " 5   Recruiter 1  2/1/19                   12               43               8   \n",
       " 12  Recruiter 1  3/1/19                   19               86              35   \n",
       " 18  Recruiter 1  4/1/19                   14               63              19   \n",
       " 20  Recruiter 1  5/1/19                   14               36               1   \n",
       " 25  Recruiter 1  6/1/19                    5                6               0   \n",
       " 30  Recruiter 1  7/1/19                   13               47              14   \n",
       " \n",
       "     Searches performed  Messages sent  Messages accepted  Messages declined  \n",
       " 4                   90            255                 41                 26  \n",
       " 5                   19             40                 14                  1  \n",
       " 12                  38             80                 33                 11  \n",
       " 18                  38            134                 27                 23  \n",
       " 20                   1            136                 11                 27  \n",
       " 25                   0              0                  0                  0  \n",
       " 30                  28             35                 14                  2  ,\n",
       " 'recruiter 2':       recruiter   Month  Unique daily logins  Profiles viewed  Profiles saved  \\\n",
       " 0   Recruiter 2  1/1/19                   19             1633             101   \n",
       " 6   Recruiter 2  2/1/19                   17             1085              63   \n",
       " 14  Recruiter 2  3/1/19                   21             1703               0   \n",
       " 17  Recruiter 2  4/1/19                   17             1583               0   \n",
       " 22  Recruiter 2  5/1/19                   20             1332               0   \n",
       " 28  Recruiter 2  6/1/19                   21             1208               0   \n",
       " 32  Recruiter 2  7/1/19                   22             1494               0   \n",
       " \n",
       "     Searches performed  Messages sent  Messages accepted  Messages declined  \n",
       " 0                  101             24                  1                  0  \n",
       " 6                   52            132                 25                 14  \n",
       " 14                 116            153                 37                 21  \n",
       " 17                 114            111                 12                 16  \n",
       " 22                 117            189                 20                 24  \n",
       " 28                 112            138                 12                 16  \n",
       " 32                 108            112                 13                 15  ,\n",
       " 'recruiter 3':       recruiter   Month  Unique daily logins  Profiles viewed  Profiles saved  \\\n",
       " 2   Recruiter 3  1/1/19                   22              223             156   \n",
       " 8   Recruiter 3  2/1/19                   22              134              10   \n",
       " 10  Recruiter 3  3/1/19                   10              110               0   \n",
       " 15  Recruiter 3  4/1/19                   18              154               0   \n",
       " 23  Recruiter 3  5/1/19                   21              625               0   \n",
       " 27  Recruiter 3  6/1/19                   16              244               0   \n",
       " 34  Recruiter 3  7/1/19                   20              379               0   \n",
       " \n",
       "     Searches performed  Messages sent  Messages accepted  Messages declined  \n",
       " 2                   27            126                 18                  2  \n",
       " 8                   15            207                 44                  7  \n",
       " 10                   6             19                  6                  0  \n",
       " 15                  18             55                 17                  7  \n",
       " 23                  12            290                 39                 25  \n",
       " 27                   7            121                 28                  8  \n",
       " 34                  17            158                 31                 15  ,\n",
       " 'recruiter 4':       recruiter   Month  Unique daily logins  Profiles viewed  Profiles saved  \\\n",
       " 1   Recruiter 4  1/1/19                   18              262             267   \n",
       " 9   Recruiter 4  2/1/19                   20              167              26   \n",
       " 13  Recruiter 4  3/1/19                   19              187               3   \n",
       " 16  Recruiter 4  4/1/19                   22              146               3   \n",
       " 21  Recruiter 4  5/1/19                   22              386               0   \n",
       " 26  Recruiter 4  6/1/19                   16              330               0   \n",
       " 33  Recruiter 4  7/1/19                   21              627               1   \n",
       " \n",
       "     Searches performed  Messages sent  Messages accepted  Messages declined  \n",
       " 1                   41             49                 19                  4  \n",
       " 9                   16            225                 86                 17  \n",
       " 13                  22            130                 39                 12  \n",
       " 16                  26             72                 28                 14  \n",
       " 21                  22            170                 49                 23  \n",
       " 26                  14             75                 23                  7  \n",
       " 33                  22            130                 41                 28  ,\n",
       " 'recruiter 5':       recruiter   Month  Unique daily logins  Profiles viewed  Profiles saved  \\\n",
       " 3   Recruiter 5  1/1/19                   22              101             185   \n",
       " 7   Recruiter 5  2/1/19                   21              101             197   \n",
       " 11  Recruiter 5  3/1/19                   15              308              49   \n",
       " 19  Recruiter 5  4/1/19                   19              159              84   \n",
       " 24  Recruiter 5  5/1/19                   17               89              47   \n",
       " 29  Recruiter 5  6/1/19                   21              104             346   \n",
       " 31  Recruiter 5  7/1/19                   18               68              36   \n",
       " \n",
       "     Searches performed  Messages sent  Messages accepted  Messages declined  \n",
       " 3                   45            139                 46                  9  \n",
       " 7                   55            145                 37                 15  \n",
       " 11                  16             72                 23                  9  \n",
       " 19                  25            176                 20                 35  \n",
       " 24                  10            320                 25                 39  \n",
       " 29                  31            482                 46                 77  \n",
       " 31                  18             44                  9                  8  }"
      ]
     },
     "execution_count": 19,
     "metadata": {},
     "output_type": "execute_result"
    }
   ],
   "source": [
    "# dict comprehension to be able to look-up this data by recruiter num\n",
    "msg_data_by_recruiter = {f'recruiter {v}':msg_data[msg_data['recruiter'] == f'Recruiter {v}'] \\\n",
    "                                                                        for (k,v) in enumerate(range(1, 6))}\n",
    "msg_data_by_recruiter"
   ]
  },
  {
   "cell_type": "code",
   "execution_count": 20,
   "metadata": {},
   "outputs": [
    {
     "name": "stdout",
     "output_type": "stream",
     "text": [
      "7\n",
      "    Messages sent  Messages accepted\n",
      "4             255                 41\n",
      "5              40                 14\n",
      "12             80                 33\n",
      "18            134                 27\n",
      "20            136                 11\n",
      "25              0                  0\n",
      "30             35                 14\n"
     ]
    },
    {
     "data": {
      "text/plain": [
       "{'recruiter 1': 0.20588235294117646,\n",
       " 'recruiter 2': 0.13969732246798602,\n",
       " 'recruiter 3': 0.1875,\n",
       " 'recruiter 4': 0.33490011750881316,\n",
       " 'recruiter 5': 0.14949201741654572}"
      ]
     },
     "execution_count": 20,
     "metadata": {},
     "output_type": "execute_result"
    }
   ],
   "source": [
    "# what does the structure of msgs sent and accepted look like\n",
    "print(len(msg_data_by_recruiter['recruiter 1'])) # only 7 lines long per recruiter\n",
    "print(msg_data_by_recruiter['recruiter 1'][['Messages sent', 'Messages accepted']])\n",
    "\n",
    "# finding ratios of accepted:sent\n",
    "perc_of_accepted_msgs = {f'recruiter {v}': msg_data_by_recruiter[f'recruiter {v}']['Messages accepted'].sum() / \n",
    "                         msg_data_by_recruiter[f'recruiter {v}']['Messages sent'].sum()\n",
    "                         for k,v in enumerate(range(1, 6))}\n",
    "perc_of_accepted_msgs # looks like recruiter 4 has the highest ratio of messages accepted:sent"
   ]
  },
  {
   "cell_type": "code",
   "execution_count": 21,
   "metadata": {},
   "outputs": [
    {
     "name": "stdout",
     "output_type": "stream",
     "text": [
      "Avg for accepted msgs: 0.20349436206690424\n",
      "Std for accepted msgs: 0.07828682866696615\n"
     ]
    }
   ],
   "source": [
    "from functools import reduce\n",
    "msg_rates = [v for k,v in perc_of_accepted_msgs.items()]\n",
    "\n",
    "avg_msg_accepted_rate = reduce(lambda x, y: x+y, msg_rates)/5\n",
    "msg_stdev_accepted = statistics.stdev(msg_rates)\n",
    "\n",
    "print(f'Avg for accepted msgs: {avg_msg_accepted_rate}') # 20.3%\n",
    "print(f'Std for accepted msgs: {msg_stdev_accepted}') # 7.8%"
   ]
  },
  {
   "cell_type": "markdown",
   "metadata": {},
   "source": [
    "### Constructing the model"
   ]
  },
  {
   "cell_type": "markdown",
   "metadata": {},
   "source": [
    "Since we know that recruiters take a lot of time finding candidates and sending messages, we can construct an objective function from the ratios we've acquired for each recruiter's call success rate"
   ]
  },
  {
   "cell_type": "markdown",
   "metadata": {},
   "source": [
    "Our goal is to create a model where recruiters have to spend the least amount of time they need to calling candidates. We don't want to make this a maximization problem and risk burnout from our recruiters. Given what we deem is feasible  from looking at their historical performances, we want to have the most number of accepted offers with the least amount of phone calls."
   ]
  },
  {
   "cell_type": "code",
   "execution_count": 22,
   "metadata": {},
   "outputs": [
    {
     "name": "stdout",
     "output_type": "stream",
     "text": [
      "Average number of accepted offers per month: 2.838235294117647\n",
      "Average number of calls per month: 47.35294117647059\n"
     ]
    }
   ],
   "source": [
    "# looks like our timeframe is monthly \n",
    "total_per_month = df[['recruiter','month', 'num_accepted?', 'phone']].groupby(([df['month']])).sum()\n",
    "\n",
    "avg_accepted_month = statistics.mean(total_per_month['num_accepted?'])\n",
    "avg_calls_month = statistics.mean(total_per_month['phone'])\n",
    "\n",
    "# we want to construct constraints that help all recruiters hit these targets\n",
    "print(f'Average number of accepted offers per month: {avg_accepted_month}')\n",
    "print(f'Average number of calls per month: {avg_calls_month}')"
   ]
  },
  {
   "cell_type": "code",
   "execution_count": 23,
   "metadata": {},
   "outputs": [
    {
     "name": "stdout",
     "output_type": "stream",
     "text": [
      "count    68.000000\n",
      "mean      2.838235\n",
      "std       3.074257\n",
      "min       0.000000\n",
      "25%       0.000000\n",
      "50%       2.000000\n",
      "75%       5.000000\n",
      "max      10.000000\n",
      "Name: num_accepted?, dtype: float64\n",
      "\n",
      "count     68.000000\n",
      "mean      47.352941\n",
      "std       32.657318\n",
      "min        5.000000\n",
      "25%       16.750000\n",
      "50%       49.000000\n",
      "75%       74.000000\n",
      "max      115.000000\n",
      "Name: phone, dtype: float64\n"
     ]
    }
   ],
   "source": [
    "print(total_per_month['num_accepted?'].describe())\n",
    "print('\\n{}'.format(total_per_month['phone'].describe()))"
   ]
  },
  {
   "cell_type": "markdown",
   "metadata": {},
   "source": [
    "#### As we see below, there is a high standard deviation for these monthly stats, so they should not be taken as truth, though they do help guide us in constructing our constraints"
   ]
  },
  {
   "cell_type": "code",
   "execution_count": 24,
   "metadata": {},
   "outputs": [
    {
     "name": "stdout",
     "output_type": "stream",
     "text": [
      "Stdev number of accepted offers per month: 3.0742565858676567\n",
      "Stdev calls per month: 32.65731830664549\n"
     ]
    }
   ],
   "source": [
    "std_num_accepted = statistics.stdev(total_per_month['num_accepted?'])\n",
    "std_num_calls = statistics.stdev(total_per_month['phone'])\n",
    "\n",
    "print(f'Stdev number of accepted offers per month: {std_num_accepted}')\n",
    "print(f'Stdev calls per month: {std_num_calls}')"
   ]
  },
  {
   "cell_type": "markdown",
   "metadata": {},
   "source": [
    "#### Coefficients for our objective function:"
   ]
  },
  {
   "cell_type": "code",
   "execution_count": 25,
   "metadata": {},
   "outputs": [
    {
     "data": {
      "text/plain": [
       "[0.07096774193548387,\n",
       " 0.056666666666666664,\n",
       " 0.06208425720620843,\n",
       " 0.055408970976253295,\n",
       " 0.05474452554744526]"
      ]
     },
     "execution_count": 25,
     "metadata": {},
     "output_type": "execute_result"
    }
   ],
   "source": [
    "rec_ratios # --> maximize phone calls: ∑x_i*rec_ratios[i]"
   ]
  },
  {
   "cell_type": "markdown",
   "metadata": {},
   "source": [
    "#### Job conversion ratios will help us find constraints (ie. recruiter we want recruiting certain jobs since they're the best at those)"
   ]
  },
  {
   "cell_type": "markdown",
   "metadata": {},
   "source": [
    "Let's rank our recruiters based on their personal job conv rates"
   ]
  },
  {
   "cell_type": "code",
   "execution_count": 26,
   "metadata": {},
   "outputs": [],
   "source": [
    "# we initialize an empty dict so we can sort job conversion rates of recruiters by job\n",
    "rates = {'job {}'.format(chr(ord('A')+k)):v for k,v in enumerate(range(0,4))}"
   ]
  },
  {
   "cell_type": "code",
   "execution_count": 27,
   "metadata": {},
   "outputs": [],
   "source": [
    "for i in range(4):\n",
    "    curr_job = jobs[i]\n",
    "    rates['job {}'.format(chr(ord('A')+i))] = [curr_job[curr_job['recruiter'] == f'Recruiter {j}']['num_accepted?'].sum()/ \\\n",
    "                                               curr_job[curr_job['recruiter'] == f'Recruiter {j}']['phone'].sum() \\\n",
    "                                               for j in range(1,6)]\n",
    "    \n"
   ]
  },
  {
   "cell_type": "markdown",
   "metadata": {},
   "source": [
    "### This is our job coefficients for the constraint matrix"
   ]
  },
  {
   "cell_type": "code",
   "execution_count": 28,
   "metadata": {},
   "outputs": [
    {
     "data": {
      "text/html": [
       "<div>\n",
       "<style scoped>\n",
       "    .dataframe tbody tr th:only-of-type {\n",
       "        vertical-align: middle;\n",
       "    }\n",
       "\n",
       "    .dataframe tbody tr th {\n",
       "        vertical-align: top;\n",
       "    }\n",
       "\n",
       "    .dataframe thead th {\n",
       "        text-align: right;\n",
       "    }\n",
       "</style>\n",
       "<table border=\"1\" class=\"dataframe\">\n",
       "  <thead>\n",
       "    <tr style=\"text-align: right;\">\n",
       "      <th></th>\n",
       "      <th>1</th>\n",
       "      <th>2</th>\n",
       "      <th>3</th>\n",
       "      <th>4</th>\n",
       "      <th>5</th>\n",
       "    </tr>\n",
       "  </thead>\n",
       "  <tbody>\n",
       "    <tr>\n",
       "      <th>job A</th>\n",
       "      <td>0.093023</td>\n",
       "      <td>0.089623</td>\n",
       "      <td>0.073298</td>\n",
       "      <td>0.068966</td>\n",
       "      <td>0.063492</td>\n",
       "    </tr>\n",
       "    <tr>\n",
       "      <th>job B</th>\n",
       "      <td>0.059211</td>\n",
       "      <td>0.044374</td>\n",
       "      <td>0.079268</td>\n",
       "      <td>0.048611</td>\n",
       "      <td>0.064516</td>\n",
       "    </tr>\n",
       "    <tr>\n",
       "      <th>job C</th>\n",
       "      <td>0.057692</td>\n",
       "      <td>0.056291</td>\n",
       "      <td>0.018182</td>\n",
       "      <td>0.063492</td>\n",
       "      <td>0.000000</td>\n",
       "    </tr>\n",
       "    <tr>\n",
       "      <th>job D</th>\n",
       "      <td>0.054054</td>\n",
       "      <td>0.072727</td>\n",
       "      <td>0.000000</td>\n",
       "      <td>0.000000</td>\n",
       "      <td>0.047619</td>\n",
       "    </tr>\n",
       "  </tbody>\n",
       "</table>\n",
       "</div>"
      ],
      "text/plain": [
       "              1         2         3         4         5\n",
       "job A  0.093023  0.089623  0.073298  0.068966  0.063492\n",
       "job B  0.059211  0.044374  0.079268  0.048611  0.064516\n",
       "job C  0.057692  0.056291  0.018182  0.063492  0.000000\n",
       "job D  0.054054  0.072727  0.000000  0.000000  0.047619"
      ]
     },
     "execution_count": 28,
     "metadata": {},
     "output_type": "execute_result"
    }
   ],
   "source": [
    "# rows are jobs, columns are recruiters\n",
    "job_constraint_matrix = pd.DataFrame(rates).T\n",
    "job_constraint_matrix.columns = [1,2,3,4,5]\n",
    "job_constraint_matrix"
   ]
  },
  {
   "cell_type": "markdown",
   "metadata": {},
   "source": [
    "### Now that we are optimizing, we will have min targets be the max number of accepted offers we saw that were accepted for that job in a month "
   ]
  },
  {
   "cell_type": "code",
   "execution_count": 29,
   "metadata": {},
   "outputs": [
    {
     "data": {
      "text/plain": [
       "[7, 6, 3, 2]"
      ]
     },
     "execution_count": 29,
     "metadata": {},
     "output_type": "execute_result"
    }
   ],
   "source": [
    "import math\n",
    "# rounding each monthly job performance up so we have groups aspire to outperform previous averages\n",
    "mean_job_performance_per_month = [math.ceil(max(jobs[i][['month', 'num_accepted?']].groupby(['month']).sum()['num_accepted?'])) \\\n",
    "                                  for i in range(4)]\n",
    "mean_job_performance_per_month"
   ]
  },
  {
   "cell_type": "markdown",
   "metadata": {},
   "source": [
    "### We are setting a lower bound on each of the job targets to get our full job constraint matrix"
   ]
  },
  {
   "cell_type": "code",
   "execution_count": 30,
   "metadata": {},
   "outputs": [
    {
     "data": {
      "text/html": [
       "<div>\n",
       "<style scoped>\n",
       "    .dataframe tbody tr th:only-of-type {\n",
       "        vertical-align: middle;\n",
       "    }\n",
       "\n",
       "    .dataframe tbody tr th {\n",
       "        vertical-align: top;\n",
       "    }\n",
       "\n",
       "    .dataframe thead th {\n",
       "        text-align: right;\n",
       "    }\n",
       "</style>\n",
       "<table border=\"1\" class=\"dataframe\">\n",
       "  <thead>\n",
       "    <tr style=\"text-align: right;\">\n",
       "      <th></th>\n",
       "      <th>1</th>\n",
       "      <th>2</th>\n",
       "      <th>3</th>\n",
       "      <th>4</th>\n",
       "      <th>5</th>\n",
       "      <th>min_targets</th>\n",
       "    </tr>\n",
       "  </thead>\n",
       "  <tbody>\n",
       "    <tr>\n",
       "      <th>job A</th>\n",
       "      <td>0.093023</td>\n",
       "      <td>0.089623</td>\n",
       "      <td>0.073298</td>\n",
       "      <td>0.068966</td>\n",
       "      <td>0.063492</td>\n",
       "      <td>7</td>\n",
       "    </tr>\n",
       "    <tr>\n",
       "      <th>job B</th>\n",
       "      <td>0.059211</td>\n",
       "      <td>0.044374</td>\n",
       "      <td>0.079268</td>\n",
       "      <td>0.048611</td>\n",
       "      <td>0.064516</td>\n",
       "      <td>6</td>\n",
       "    </tr>\n",
       "    <tr>\n",
       "      <th>job C</th>\n",
       "      <td>0.057692</td>\n",
       "      <td>0.056291</td>\n",
       "      <td>0.018182</td>\n",
       "      <td>0.063492</td>\n",
       "      <td>0.000000</td>\n",
       "      <td>3</td>\n",
       "    </tr>\n",
       "    <tr>\n",
       "      <th>job D</th>\n",
       "      <td>0.054054</td>\n",
       "      <td>0.072727</td>\n",
       "      <td>0.000000</td>\n",
       "      <td>0.000000</td>\n",
       "      <td>0.047619</td>\n",
       "      <td>2</td>\n",
       "    </tr>\n",
       "  </tbody>\n",
       "</table>\n",
       "</div>"
      ],
      "text/plain": [
       "              1         2         3         4         5  min_targets\n",
       "job A  0.093023  0.089623  0.073298  0.068966  0.063492            7\n",
       "job B  0.059211  0.044374  0.079268  0.048611  0.064516            6\n",
       "job C  0.057692  0.056291  0.018182  0.063492  0.000000            3\n",
       "job D  0.054054  0.072727  0.000000  0.000000  0.047619            2"
      ]
     },
     "execution_count": 30,
     "metadata": {},
     "output_type": "execute_result"
    }
   ],
   "source": [
    "job_constraint_matrix['min_targets'] = mean_job_performance_per_month\n",
    "job_constraint_matrix"
   ]
  },
  {
   "cell_type": "markdown",
   "metadata": {},
   "source": [
    "#### Now, we want to find who performed the best for each position so we can encourage via other constraints, where recruiters should be devoting their phone time"
   ]
  },
  {
   "cell_type": "code",
   "execution_count": 31,
   "metadata": {},
   "outputs": [
    {
     "name": "stdout",
     "output_type": "stream",
     "text": [
      "This dictionary indicates who is best at recruiting certain jobs:\n",
      "\n"
     ]
    },
    {
     "data": {
      "text/plain": [
       "{'job A': ('Recruiter 1', 0.09302325581395349),\n",
       " 'job B': ('Recruiter 3', 0.07926829268292683),\n",
       " 'job C': ('Recruiter 4', 0.06349206349206349),\n",
       " 'job D': ('Recruiter 2', 0.07272727272727272)}"
      ]
     },
     "execution_count": 31,
     "metadata": {},
     "output_type": "execute_result"
    }
   ],
   "source": [
    "best_recruiters = {k:(f'Recruiter {v.index(max(v)) + 1}',max(v)) for k,v in rates.items()}\n",
    "print(f'This dictionary indicates who is best at recruiting certain jobs:\\n')\n",
    "best_recruiters"
   ]
  },
  {
   "cell_type": "markdown",
   "metadata": {},
   "source": [
    "### Since there are 4 jobs, if a certain recruiter performs best at a particular role, they will have to make sure that they meet at least 25% of the min target for that position"
   ]
  },
  {
   "cell_type": "raw",
   "metadata": {},
   "source": [
    "# this will be the format\n",
    "# the recruiter with the best recruitment ratios will have to devote at least 25% of their phone calls to that job:\n",
    "x_ij >= .25(min_target_job_j)"
   ]
  },
  {
   "cell_type": "markdown",
   "metadata": {},
   "source": [
    "# Our model:\n",
    "### Minimize:\n",
    "z = .0710x1 + .0567x2 + .06208x3 + .0554x4 + .05474x5, where x_i = (x_iA + x_iB + x_iC + x_iD)\n",
    "### Subject to:\n",
    "Job Constraint matrix,"
   ]
  },
  {
   "cell_type": "markdown",
   "metadata": {},
   "source": [
    "x_ij >= .25(min_target_job_j)"
   ]
  },
  {
   "cell_type": "markdown",
   "metadata": {},
   "source": [
    "x_i >= 0"
   ]
  },
  {
   "cell_type": "markdown",
   "metadata": {},
   "source": [
    "# Solving:"
   ]
  },
  {
   "cell_type": "code",
   "execution_count": 32,
   "metadata": {},
   "outputs": [],
   "source": [
    "from pulp import *\n",
    "\n",
    "x_names = []\n",
    "for i in range(1, 6):\n",
    "    x_names.append(['x_{}{}'.format(i,chr(ord('A')+j)) for j in range(4)])\n",
    "\n",
    "# note that we are already setting the non-negativity condition for the objective function\n",
    "x = [ LpVariable(x_names[i][j], lowBound = 0, cat = 'continuous') for i in range(5) for j in range(4) ]"
   ]
  },
  {
   "cell_type": "code",
   "execution_count": 33,
   "metadata": {},
   "outputs": [
    {
     "data": {
      "text/plain": [
       "0.07096774193548387*x_1A + 0.07096774193548387*x_1B + 0.07096774193548387*x_1C + 0.07096774193548387*x_1D + 0.056666666666666664*x_2A + 0.056666666666666664*x_2B + 0.056666666666666664*x_2C + 0.056666666666666664*x_2D + 0.06208425720620843*x_3A + 0.06208425720620843*x_3B + 0.06208425720620843*x_3C + 0.06208425720620843*x_3D + 0.055408970976253295*x_4A + 0.055408970976253295*x_4B + 0.055408970976253295*x_4C + 0.055408970976253295*x_4D + 0.05474452554744526*x_5A + 0.05474452554744526*x_5B + 0.05474452554744526*x_5C + 0.05474452554744526*x_5D + 0"
      ]
     },
     "execution_count": 33,
     "metadata": {},
     "output_type": "execute_result"
    }
   ],
   "source": [
    "## creating an objective function\n",
    "objective_function = LpAffineExpression([ ( x[4*i+j], rec_ratios[i] ) for i in range(5) for j in range(4) ])\n",
    "objective_function"
   ]
  },
  {
   "cell_type": "code",
   "execution_count": 34,
   "metadata": {},
   "outputs": [],
   "source": [
    "LP_problem = pulp.LpProblem(\"Linear Optimization\", pulp.LpMinimize)\n",
    "LP_problem += objective_function, \"N\""
   ]
  },
  {
   "cell_type": "code",
   "execution_count": 35,
   "metadata": {},
   "outputs": [
    {
     "data": {
      "text/plain": [
       "[x_1A,\n",
       " x_1B,\n",
       " x_1C,\n",
       " x_1D,\n",
       " x_2A,\n",
       " x_2B,\n",
       " x_2C,\n",
       " x_2D,\n",
       " x_3A,\n",
       " x_3B,\n",
       " x_3C,\n",
       " x_3D,\n",
       " x_4A,\n",
       " x_4B,\n",
       " x_4C,\n",
       " x_4D,\n",
       " x_5A,\n",
       " x_5B,\n",
       " x_5C,\n",
       " x_5D]"
      ]
     },
     "execution_count": 35,
     "metadata": {},
     "output_type": "execute_result"
    }
   ],
   "source": [
    "x"
   ]
  },
  {
   "cell_type": "code",
   "execution_count": 36,
   "metadata": {},
   "outputs": [],
   "source": [
    "## constraints\n",
    "# taking coefficients from job_constraint_matrix for variables\n",
    "job_constraintsA = LpAffineExpression([ (x[4*j+0], job_constraint_matrix.iloc[0,j]) for j in range(5) ])\n",
    "job_constraintsB = LpAffineExpression([ (x[4*j+1], job_constraint_matrix.iloc[1,j]) for j in range(5) ])\n",
    "job_constraintsC = LpAffineExpression([ (x[4*j+2], job_constraint_matrix.iloc[2,j]) for j in range(5) ])\n",
    "job_constraintsD = LpAffineExpression([ (x[4*j+3], job_constraint_matrix.iloc[3,j]) for j in range(5) ])\n",
    "\n",
    "job_coefs_matrix = [job_constraintsA, job_constraintsB, job_constraintsC, job_constraintsD]"
   ]
  },
  {
   "cell_type": "code",
   "execution_count": 37,
   "metadata": {},
   "outputs": [],
   "source": [
    "# setting min_targets from job_constraint_matrix for the job coefficients matrix (job_coef_matrix)\n",
    "for i in range(4):\n",
    "    constraint_name = chr(ord('A')+i)\n",
    "    LP_problem += LpConstraint(e=job_coefs_matrix[i], # LHS vars\n",
    "                               sense=1, # GE\n",
    "                               name=f'coefs {constraint_name}', # name  \n",
    "                               rhs=job_constraint_matrix.iloc[i,5]) # RHS target"
   ]
  },
  {
   "cell_type": "code",
   "execution_count": 38,
   "metadata": {},
   "outputs": [],
   "source": [
    "LP_problem += LpConstraint(e=job_coefs_matrix[0], # LHS vars\n",
    "                               sense=1, # GE\n",
    "                               rhs=job_constraint_matrix.iloc[0,5]) # RHS target"
   ]
  },
  {
   "cell_type": "code",
   "execution_count": 39,
   "metadata": {},
   "outputs": [
    {
     "data": {
      "text/plain": [
       "0.05921052631578947*x_1B + 0.044374009508716325*x_2B + 0.07926829268292683*x_3B + 0.04861111111111111*x_4B + 0.06451612903225806*x_5B + -6 >= 0"
      ]
     },
     "execution_count": 39,
     "metadata": {},
     "output_type": "execute_result"
    }
   ],
   "source": [
    "LpConstraint(e=job_coefs_matrix[1], # LHS vars\n",
    "                               sense=1, # GE\n",
    "                               name=f'coefs {constraint_name}', # name  \n",
    "                               rhs=job_constraint_matrix.iloc[1,5])"
   ]
  },
  {
   "cell_type": "code",
   "execution_count": 40,
   "metadata": {},
   "outputs": [
    {
     "data": {
      "text/plain": [
       "6"
      ]
     },
     "execution_count": 40,
     "metadata": {},
     "output_type": "execute_result"
    }
   ],
   "source": [
    "job_constraint_matrix.iloc[1,5]"
   ]
  },
  {
   "cell_type": "code",
   "execution_count": 41,
   "metadata": {},
   "outputs": [],
   "source": [
    "# we want the recruiter with the best proporitions for job {letter}\n",
    "# to make at least 25% of the min required calls\n",
    "LP_problem += LpConstraint(e=LpAffineExpression([(x[0], 4) ]),\n",
    "                           sense=1,\n",
    "                           name='job A best: min target',\n",
    "                           rhs=job_constraint_matrix.iloc[0,5])\n",
    "\n",
    "LP_problem += LpConstraint(e=LpAffineExpression([(x[9], 4) ]),\n",
    "                           sense=1,\n",
    "                           name='job B best: min target',\n",
    "                           rhs=job_constraint_matrix.iloc[1,5])\n",
    "\n",
    "LP_problem += LpConstraint(e=LpAffineExpression([(x[14], 4) ]),\n",
    "                           sense=1,\n",
    "                           name='job C best: min target',\n",
    "                           rhs=job_constraint_matrix.iloc[2,5])\n",
    "\n",
    "LP_problem += LpConstraint(e=LpAffineExpression([(x[7], 4) ]),\n",
    "                           sense=1,\n",
    "                           name='job D best: min target',\n",
    "                           rhs=job_constraint_matrix.iloc[3,5])"
   ]
  },
  {
   "cell_type": "code",
   "execution_count": 42,
   "metadata": {},
   "outputs": [],
   "source": [
    "## none of the recruiters should ever exceed the max phone calls made in a month\n",
    "max_phone_calls = max(total_per_month['phone'])\n",
    "for i in range(5):\n",
    "    curr_rec = LpAffineExpression( [ (x[4*i+j], 1) for j in range(4)])\n",
    "    LP_problem += LpConstraint(e=curr_rec, # LHS vars\n",
    "                               sense=-1, # LE\n",
    "                               name=f'recruiter {i+1} max', # name  \n",
    "                               rhs=max_phone_calls) # RHS target"
   ]
  },
  {
   "cell_type": "code",
   "execution_count": 43,
   "metadata": {},
   "outputs": [],
   "source": [
    "## non-negativity constraints\n",
    "for i in range(20):\n",
    "    curr_var = LpAffineExpression( [(x[i],1)] )\n",
    "    LP_problem += LpConstraint(e = curr_var,\n",
    "                              sense = 1,\n",
    "                              rhs = 0)"
   ]
  },
  {
   "cell_type": "code",
   "execution_count": 44,
   "metadata": {},
   "outputs": [
    {
     "name": "stdout",
     "output_type": "stream",
     "text": [
      "x_1A 2\n",
      "x_1B 0\n",
      "x_1C 0\n",
      "x_1D 0\n",
      "x_2A 77\n",
      "x_2B 0\n",
      "x_2C 0\n",
      "x_2D 28\n",
      "x_3A 0\n",
      "x_3B 76\n",
      "x_3C 0\n",
      "x_3D 0\n",
      "x_4A 0\n",
      "x_4B 0\n",
      "x_4C 48\n",
      "x_4D 0\n",
      "x_5A 0\n",
      "x_5B 0\n",
      "x_5C 0\n",
      "x_5D 0\n"
     ]
    }
   ],
   "source": [
    "LP_problem.solve()\n",
    "pulp.LpStatus[LP_problem.status]\n",
    "\n",
    "# since we can't make anything but integer phone calls\n",
    "for var in LP_problem.variables():\n",
    "    print(var.name, math.ceil(var.varValue))"
   ]
  },
  {
   "cell_type": "code",
   "execution_count": 45,
   "metadata": {},
   "outputs": [
    {
     "name": "stdout",
     "output_type": "stream",
     "text": [
      "We've reached the optimal solution.\n"
     ]
    }
   ],
   "source": [
    "if LP_problem.status == 1:\n",
    "    print('We\\'ve reached the optimal solution.')"
   ]
  },
  {
   "cell_type": "code",
   "execution_count": null,
   "metadata": {},
   "outputs": [],
   "source": []
  }
 ],
 "metadata": {
  "kernelspec": {
   "display_name": "Python 3",
   "language": "python",
   "name": "python3"
  },
  "language_info": {
   "codemirror_mode": {
    "name": "ipython",
    "version": 3
   },
   "file_extension": ".py",
   "mimetype": "text/x-python",
   "name": "python",
   "nbconvert_exporter": "python",
   "pygments_lexer": "ipython3",
   "version": "3.6.8"
  }
 },
 "nbformat": 4,
 "nbformat_minor": 2
}
