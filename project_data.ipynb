{
 "cells": [
  {
   "cell_type": "markdown",
   "metadata": {},
   "source": [
    "## Importing dependencies"
   ]
  },
  {
   "cell_type": "code",
   "execution_count": 1,
   "metadata": {},
   "outputs": [],
   "source": [
    "import pandas as pd\n",
    "import numpy as np\n",
    "import statistics"
   ]
  },
  {
   "cell_type": "markdown",
   "metadata": {},
   "source": [
    "## Constructing dataframe from data"
   ]
  },
  {
   "cell_type": "code",
   "execution_count": 2,
   "metadata": {},
   "outputs": [
    {
     "name": "stdout",
     "output_type": "stream",
     "text": [
      "            Unnamed: 0   Unnamed: 1 Unnamed: 2 Unnamed: 3 Unnamed: 4\n",
      "0           PhoneMonth    Recruiter       Job       Phone   Accepted\n",
      "1  2017-04-01 00:00:00  Recruiter 1      Job A          1          0\n",
      "2  2017-05-01 00:00:00  Recruiter 1      Job A          1          0\n",
      "3  2017-06-01 00:00:00  Recruiter 1      Job A          2          0\n",
      "4  2017-08-01 00:00:00  Recruiter 1      Job A          6          3\n"
     ]
    }
   ],
   "source": [
    "raw_excel= pd.ExcelFile('final_data.xlsx')\n",
    "df = pd.read_excel(raw_excel)\n",
    "\n",
    "df = df.iloc[:,:5]\n",
    "print(df.head())"
   ]
  },
  {
   "cell_type": "markdown",
   "metadata": {},
   "source": [
    "# Exploratory Analysis"
   ]
  },
  {
   "cell_type": "code",
   "execution_count": 3,
   "metadata": {},
   "outputs": [
    {
     "data": {
      "text/html": [
       "<div>\n",
       "<style scoped>\n",
       "    .dataframe tbody tr th:only-of-type {\n",
       "        vertical-align: middle;\n",
       "    }\n",
       "\n",
       "    .dataframe tbody tr th {\n",
       "        vertical-align: top;\n",
       "    }\n",
       "\n",
       "    .dataframe thead th {\n",
       "        text-align: right;\n",
       "    }\n",
       "</style>\n",
       "<table border=\"1\" class=\"dataframe\">\n",
       "  <thead>\n",
       "    <tr style=\"text-align: right;\">\n",
       "      <th></th>\n",
       "      <th>Unnamed: 0</th>\n",
       "      <th>Unnamed: 1</th>\n",
       "      <th>Unnamed: 2</th>\n",
       "      <th>Unnamed: 3</th>\n",
       "      <th>Unnamed: 4</th>\n",
       "    </tr>\n",
       "  </thead>\n",
       "  <tbody>\n",
       "    <tr>\n",
       "      <th>0</th>\n",
       "      <td>PhoneMonth</td>\n",
       "      <td>Recruiter</td>\n",
       "      <td>Job</td>\n",
       "      <td>Phone</td>\n",
       "      <td>Accepted</td>\n",
       "    </tr>\n",
       "    <tr>\n",
       "      <th>1</th>\n",
       "      <td>2017-04-01 00:00:00</td>\n",
       "      <td>Recruiter 1</td>\n",
       "      <td>Job A</td>\n",
       "      <td>1</td>\n",
       "      <td>0</td>\n",
       "    </tr>\n",
       "    <tr>\n",
       "      <th>2</th>\n",
       "      <td>2017-05-01 00:00:00</td>\n",
       "      <td>Recruiter 1</td>\n",
       "      <td>Job A</td>\n",
       "      <td>1</td>\n",
       "      <td>0</td>\n",
       "    </tr>\n",
       "    <tr>\n",
       "      <th>3</th>\n",
       "      <td>2017-06-01 00:00:00</td>\n",
       "      <td>Recruiter 1</td>\n",
       "      <td>Job A</td>\n",
       "      <td>2</td>\n",
       "      <td>0</td>\n",
       "    </tr>\n",
       "    <tr>\n",
       "      <th>4</th>\n",
       "      <td>2017-08-01 00:00:00</td>\n",
       "      <td>Recruiter 1</td>\n",
       "      <td>Job A</td>\n",
       "      <td>6</td>\n",
       "      <td>3</td>\n",
       "    </tr>\n",
       "  </tbody>\n",
       "</table>\n",
       "</div>"
      ],
      "text/plain": [
       "            Unnamed: 0   Unnamed: 1 Unnamed: 2 Unnamed: 3 Unnamed: 4\n",
       "0           PhoneMonth    Recruiter       Job       Phone   Accepted\n",
       "1  2017-04-01 00:00:00  Recruiter 1      Job A          1          0\n",
       "2  2017-05-01 00:00:00  Recruiter 1      Job A          1          0\n",
       "3  2017-06-01 00:00:00  Recruiter 1      Job A          2          0\n",
       "4  2017-08-01 00:00:00  Recruiter 1      Job A          6          3"
      ]
     },
     "execution_count": 3,
     "metadata": {},
     "output_type": "execute_result"
    }
   ],
   "source": [
    "df.head()"
   ]
  },
  {
   "cell_type": "code",
   "execution_count": 4,
   "metadata": {},
   "outputs": [],
   "source": [
    "# since there are unnecessary NaN cols from excel, we want to take those out\n",
    "cols = ['month', 'recruiter', 'job', 'phone', 'num_accepted?']\n",
    "df.columns = cols"
   ]
  },
  {
   "cell_type": "code",
   "execution_count": 5,
   "metadata": {},
   "outputs": [],
   "source": [
    "df = df.iloc[1:]"
   ]
  },
  {
   "cell_type": "code",
   "execution_count": 6,
   "metadata": {},
   "outputs": [
    {
     "data": {
      "text/plain": [
       "Index(['month', 'recruiter', 'job', 'phone', 'num_accepted?'], dtype='object')"
      ]
     },
     "execution_count": 6,
     "metadata": {},
     "output_type": "execute_result"
    }
   ],
   "source": [
    "df.columns"
   ]
  },
  {
   "cell_type": "markdown",
   "metadata": {},
   "source": [
    "### Recruiter ratios"
   ]
  },
  {
   "cell_type": "code",
   "execution_count": 7,
   "metadata": {},
   "outputs": [],
   "source": [
    "rec = []\n",
    "for i in range(1, 6):\n",
    "    curr_recruiter = f'Recruiter {i}'\n",
    "    rec.append(df[df['recruiter'] == curr_recruiter])"
   ]
  },
  {
   "cell_type": "code",
   "execution_count": 8,
   "metadata": {},
   "outputs": [
    {
     "data": {
      "text/html": [
       "<div>\n",
       "<style scoped>\n",
       "    .dataframe tbody tr th:only-of-type {\n",
       "        vertical-align: middle;\n",
       "    }\n",
       "\n",
       "    .dataframe tbody tr th {\n",
       "        vertical-align: top;\n",
       "    }\n",
       "\n",
       "    .dataframe thead th {\n",
       "        text-align: right;\n",
       "    }\n",
       "</style>\n",
       "<table border=\"1\" class=\"dataframe\">\n",
       "  <thead>\n",
       "    <tr style=\"text-align: right;\">\n",
       "      <th></th>\n",
       "      <th>month</th>\n",
       "      <th>recruiter</th>\n",
       "      <th>job</th>\n",
       "      <th>phone</th>\n",
       "      <th>num_accepted?</th>\n",
       "    </tr>\n",
       "  </thead>\n",
       "  <tbody>\n",
       "    <tr>\n",
       "      <th>1</th>\n",
       "      <td>2017-04-01 00:00:00</td>\n",
       "      <td>Recruiter 1</td>\n",
       "      <td>Job A</td>\n",
       "      <td>1</td>\n",
       "      <td>0</td>\n",
       "    </tr>\n",
       "    <tr>\n",
       "      <th>2</th>\n",
       "      <td>2017-05-01 00:00:00</td>\n",
       "      <td>Recruiter 1</td>\n",
       "      <td>Job A</td>\n",
       "      <td>1</td>\n",
       "      <td>0</td>\n",
       "    </tr>\n",
       "    <tr>\n",
       "      <th>3</th>\n",
       "      <td>2017-06-01 00:00:00</td>\n",
       "      <td>Recruiter 1</td>\n",
       "      <td>Job A</td>\n",
       "      <td>2</td>\n",
       "      <td>0</td>\n",
       "    </tr>\n",
       "    <tr>\n",
       "      <th>4</th>\n",
       "      <td>2017-08-01 00:00:00</td>\n",
       "      <td>Recruiter 1</td>\n",
       "      <td>Job A</td>\n",
       "      <td>6</td>\n",
       "      <td>3</td>\n",
       "    </tr>\n",
       "    <tr>\n",
       "      <th>5</th>\n",
       "      <td>2017-09-01 00:00:00</td>\n",
       "      <td>Recruiter 1</td>\n",
       "      <td>Job A</td>\n",
       "      <td>3</td>\n",
       "      <td>0</td>\n",
       "    </tr>\n",
       "  </tbody>\n",
       "</table>\n",
       "</div>"
      ],
      "text/plain": [
       "                 month    recruiter    job phone num_accepted?\n",
       "1  2017-04-01 00:00:00  Recruiter 1  Job A     1             0\n",
       "2  2017-05-01 00:00:00  Recruiter 1  Job A     1             0\n",
       "3  2017-06-01 00:00:00  Recruiter 1  Job A     2             0\n",
       "4  2017-08-01 00:00:00  Recruiter 1  Job A     6             3\n",
       "5  2017-09-01 00:00:00  Recruiter 1  Job A     3             0"
      ]
     },
     "execution_count": 8,
     "metadata": {},
     "output_type": "execute_result"
    }
   ],
   "source": [
    "# if you want to refer to a specific recruiter, rec[recruiter_no-1]\n",
    "# ie. recruiter 1\n",
    "rec[0].head()"
   ]
  },
  {
   "cell_type": "code",
   "execution_count": 9,
   "metadata": {},
   "outputs": [],
   "source": [
    "# accepted: phonecall ratios\n",
    "rec_ratios = []\n",
    "for i in range(5):\n",
    "    rec_ratios.append(rec[i]['num_accepted?'].sum()/ rec[i]['phone'].sum())"
   ]
  },
  {
   "cell_type": "code",
   "execution_count": 10,
   "metadata": {},
   "outputs": [
    {
     "name": "stdout",
     "output_type": "stream",
     "text": [
      "Recruiter conversion ratios by recruiter (1,2,3,4,5):\n",
      "[0.07096774193548387, 0.056666666666666664, 0.06208425720620843, 0.055408970976253295, 0.05474452554744526]\n",
      "\n",
      "Average recruiter ratio (in %): 5.99744324664115\n"
     ]
    }
   ],
   "source": [
    "print(f'Recruiter conversion ratios by recruiter (1,2,3,4,5):\\n{rec_ratios}\\n')\n",
    "avg_rec_ratio = sum(rec_ratios)/len(rec_ratios) # 5.997%\n",
    "print(f'Average recruiter ratio (in %): {avg_rec_ratio*100}')"
   ]
  },
  {
   "cell_type": "code",
   "execution_count": 11,
   "metadata": {},
   "outputs": [],
   "source": [
    "# let's show this as a percent because it's pretty low\n",
    "avg_perc = round(avg_rec_ratio*1000, 2)/10 # so around 6%, that is the conversion ratio\n"
   ]
  },
  {
   "cell_type": "markdown",
   "metadata": {},
   "source": [
    "### Job conversion ratios"
   ]
  },
  {
   "cell_type": "code",
   "execution_count": 12,
   "metadata": {},
   "outputs": [],
   "source": [
    "# let's find the conversion ratios for each job - A,B,C,D\n",
    "jobs = [df[df['job'] == 'Job {}'.format(chr(ord('A')+i))] for i in range(4)] "
   ]
  },
  {
   "cell_type": "code",
   "execution_count": 13,
   "metadata": {},
   "outputs": [],
   "source": [
    "job_conv_ratios = [jobs[i]['num_accepted?'].sum()/jobs[i]['phone'].sum() for i in range(4)]"
   ]
  },
  {
   "cell_type": "code",
   "execution_count": 14,
   "metadata": {},
   "outputs": [
    {
     "name": "stdout",
     "output_type": "stream",
     "text": [
      "Job conversion ratios by job (A,B,C,D): [0.08045977011494253, 0.0590851334180432, 0.04484304932735426, 0.03608247422680412]\n",
      "\n",
      "Average job conversion ratio: 5.512%\n"
     ]
    }
   ],
   "source": [
    "print(f'Job conversion ratios by job (A,B,C,D): {job_conv_ratios}\\n')\n",
    "avg_job_conv_ratios = round(1000*sum(job_conv_ratios)/len(job_conv_ratios),2)/10\n",
    "print(f'Average job conversion ratio: {avg_job_conv_ratios}%') # 4.41%, also pretty low\n"
   ]
  },
  {
   "cell_type": "markdown",
   "metadata": {},
   "source": [
    "#### Calculations of std for sensitivity analysis before we construct the model"
   ]
  },
  {
   "cell_type": "code",
   "execution_count": 15,
   "metadata": {},
   "outputs": [
    {
     "name": "stdout",
     "output_type": "stream",
     "text": [
      "Standard deviation for the recruiter ratios: 0.006790450888942972\n",
      "Standard deviation for the job conversion ratios: 0.019372397135133133\n"
     ]
    }
   ],
   "source": [
    "std_rec_ratios = statistics.stdev(rec_ratios)\n",
    "print(f'Standard deviation for the recruiter ratios: {std_rec_ratios}') # 0.679%\n",
    "\n",
    "std_job_conv_ratios = statistics.stdev(job_conv_ratios)\n",
    "print(f'Standard deviation for the job conversion ratios: {std_job_conv_ratios}') # 1.9%\n"
   ]
  },
  {
   "cell_type": "markdown",
   "metadata": {},
   "source": [
    "### Constructing the model"
   ]
  },
  {
   "cell_type": "markdown",
   "metadata": {},
   "source": [
    "Since we know that recruiters take a lot of time finding candidates and sending messages, we can construct an objective function from the ratios we've acquired for each recruiter's call success rate"
   ]
  },
  {
   "cell_type": "markdown",
   "metadata": {},
   "source": [
    "Our goal is to create a model where recruiters have to spend the least amount of time they need to calling candidates. We don't want to make this a maximization problem and risk burnout from our recruiters. Given what we deem is feasible  from looking at their historical performances, we want to have the most number of accepted offers with the least amount of phone calls."
   ]
  },
  {
   "cell_type": "code",
   "execution_count": 22,
   "metadata": {},
   "outputs": [
    {
     "name": "stdout",
     "output_type": "stream",
     "text": [
      "Average number of accepted offers per month: 2.838235294117647\n",
      "Average number of calls per month: 47.35294117647059\n"
     ]
    }
   ],
   "source": [
    "# looks like our timeframe is monthly \n",
    "total_per_month = df[['recruiter','month', 'num_accepted?', 'phone', 'job']].groupby(([df['month']])).sum()\n",
    "\n",
    "avg_accepted_month = statistics.mean(total_per_month['num_accepted?'])\n",
    "avg_calls_month = statistics.mean(total_per_month['phone'])\n",
    "\n",
    "# we want to construct constraints that help all recruiters hit these targets\n",
    "print(f'Average number of accepted offers per month: {avg_accepted_month}')\n",
    "print(f'Average number of calls per month: {avg_calls_month}')"
   ]
  },
  {
   "cell_type": "code",
   "execution_count": 23,
   "metadata": {},
   "outputs": [
    {
     "name": "stdout",
     "output_type": "stream",
     "text": [
      "count    68.000000\n",
      "mean      2.838235\n",
      "std       3.074257\n",
      "min       0.000000\n",
      "25%       0.000000\n",
      "50%       2.000000\n",
      "75%       5.000000\n",
      "max      10.000000\n",
      "Name: num_accepted?, dtype: float64\n",
      "\n",
      "count     68.000000\n",
      "mean      47.352941\n",
      "std       32.657318\n",
      "min        5.000000\n",
      "25%       16.750000\n",
      "50%       49.000000\n",
      "75%       74.000000\n",
      "max      115.000000\n",
      "Name: phone, dtype: float64\n"
     ]
    }
   ],
   "source": [
    "print(total_per_month['num_accepted?'].describe())\n",
    "print('\\n{}'.format(total_per_month['phone'].describe()))"
   ]
  },
  {
   "cell_type": "markdown",
   "metadata": {},
   "source": [
    "#### As we see below, there is a high standard deviation for these monthly stats, so they should not be taken as truth, though they do help guide us in constructing our constraints"
   ]
  },
  {
   "cell_type": "code",
   "execution_count": 24,
   "metadata": {},
   "outputs": [
    {
     "name": "stdout",
     "output_type": "stream",
     "text": [
      "Stdev number of accepted offers per month: 3.0742565858676567\n",
      "Stdev calls per month: 32.65731830664549\n"
     ]
    }
   ],
   "source": [
    "std_num_accepted = statistics.stdev(total_per_month['num_accepted?'])\n",
    "std_num_calls = statistics.stdev(total_per_month['phone'])\n",
    "\n",
    "print(f'Stdev number of accepted offers per month: {std_num_accepted}')\n",
    "print(f'Stdev calls per month: {std_num_calls}')"
   ]
  },
  {
   "cell_type": "markdown",
   "metadata": {},
   "source": [
    "#### Coefficients for our objective function:"
   ]
  },
  {
   "cell_type": "code",
   "execution_count": 25,
   "metadata": {},
   "outputs": [
    {
     "data": {
      "text/plain": [
       "[0.07096774193548387,\n",
       " 0.056666666666666664,\n",
       " 0.06208425720620843,\n",
       " 0.055408970976253295,\n",
       " 0.05474452554744526]"
      ]
     },
     "execution_count": 25,
     "metadata": {},
     "output_type": "execute_result"
    }
   ],
   "source": [
    "rec_ratios # --> maximize phone calls: ∑x_i*rec_ratios[i]"
   ]
  },
  {
   "cell_type": "markdown",
   "metadata": {},
   "source": [
    "#### Job conversion ratios will help us find constraints (ie. recruiter we want recruiting certain jobs since they're the best at those)"
   ]
  },
  {
   "cell_type": "markdown",
   "metadata": {},
   "source": [
    "Let's rank our recruiters based on their personal job conv rates"
   ]
  },
  {
   "cell_type": "code",
   "execution_count": 26,
   "metadata": {},
   "outputs": [],
   "source": [
    "# we initialize an empty dict so we can sort job conversion rates of recruiters by job\n",
    "rates = {'job {}'.format(chr(ord('A')+k)):v for k,v in enumerate(range(0,4))}"
   ]
  },
  {
   "cell_type": "code",
   "execution_count": 27,
   "metadata": {},
   "outputs": [],
   "source": [
    "for i in range(4):\n",
    "    curr_job = jobs[i]\n",
    "    rates['job {}'.format(chr(ord('A')+i))] = [curr_job[curr_job['recruiter'] == f'Recruiter {j}']['num_accepted?'].sum()/ \\\n",
    "                                               curr_job[curr_job['recruiter'] == f'Recruiter {j}']['phone'].sum() \\\n",
    "                                               for j in range(1,6)]\n",
    "    \n"
   ]
  },
  {
   "cell_type": "markdown",
   "metadata": {},
   "source": [
    "### This is our job coefficients for the constraint matrix"
   ]
  },
  {
   "cell_type": "code",
   "execution_count": 28,
   "metadata": {},
   "outputs": [
    {
     "data": {
      "text/html": [
       "<div>\n",
       "<style scoped>\n",
       "    .dataframe tbody tr th:only-of-type {\n",
       "        vertical-align: middle;\n",
       "    }\n",
       "\n",
       "    .dataframe tbody tr th {\n",
       "        vertical-align: top;\n",
       "    }\n",
       "\n",
       "    .dataframe thead th {\n",
       "        text-align: right;\n",
       "    }\n",
       "</style>\n",
       "<table border=\"1\" class=\"dataframe\">\n",
       "  <thead>\n",
       "    <tr style=\"text-align: right;\">\n",
       "      <th></th>\n",
       "      <th>1</th>\n",
       "      <th>2</th>\n",
       "      <th>3</th>\n",
       "      <th>4</th>\n",
       "      <th>5</th>\n",
       "    </tr>\n",
       "  </thead>\n",
       "  <tbody>\n",
       "    <tr>\n",
       "      <th>job A</th>\n",
       "      <td>0.093023</td>\n",
       "      <td>0.089623</td>\n",
       "      <td>0.073298</td>\n",
       "      <td>0.068966</td>\n",
       "      <td>0.063492</td>\n",
       "    </tr>\n",
       "    <tr>\n",
       "      <th>job B</th>\n",
       "      <td>0.059211</td>\n",
       "      <td>0.044374</td>\n",
       "      <td>0.079268</td>\n",
       "      <td>0.048611</td>\n",
       "      <td>0.064516</td>\n",
       "    </tr>\n",
       "    <tr>\n",
       "      <th>job C</th>\n",
       "      <td>0.057692</td>\n",
       "      <td>0.056291</td>\n",
       "      <td>0.018182</td>\n",
       "      <td>0.063492</td>\n",
       "      <td>0.000000</td>\n",
       "    </tr>\n",
       "    <tr>\n",
       "      <th>job D</th>\n",
       "      <td>0.054054</td>\n",
       "      <td>0.072727</td>\n",
       "      <td>0.000000</td>\n",
       "      <td>0.000000</td>\n",
       "      <td>0.047619</td>\n",
       "    </tr>\n",
       "  </tbody>\n",
       "</table>\n",
       "</div>"
      ],
      "text/plain": [
       "              1         2         3         4         5\n",
       "job A  0.093023  0.089623  0.073298  0.068966  0.063492\n",
       "job B  0.059211  0.044374  0.079268  0.048611  0.064516\n",
       "job C  0.057692  0.056291  0.018182  0.063492  0.000000\n",
       "job D  0.054054  0.072727  0.000000  0.000000  0.047619"
      ]
     },
     "execution_count": 28,
     "metadata": {},
     "output_type": "execute_result"
    }
   ],
   "source": [
    "# rows are jobs, columns are recruiters\n",
    "job_constraint_matrix = pd.DataFrame(rates).T\n",
    "job_constraint_matrix.columns = [1,2,3,4,5]\n",
    "job_constraint_matrix"
   ]
  },
  {
   "cell_type": "markdown",
   "metadata": {},
   "source": [
    "### Now that we are optimizing, we will have min targets be the max number of accepted offers we saw that were accepted for that job in a month "
   ]
  },
  {
   "cell_type": "code",
   "execution_count": 29,
   "metadata": {},
   "outputs": [
    {
     "data": {
      "text/plain": [
       "[7, 6, 3, 2]"
      ]
     },
     "execution_count": 29,
     "metadata": {},
     "output_type": "execute_result"
    }
   ],
   "source": [
    "import math\n",
    "# rounding each monthly job performance up so we have groups aspire to outperform previous averages\n",
    "mean_job_performance_per_month = [math.ceil(max(jobs[i][['month', 'num_accepted?']].groupby(['month']).sum()['num_accepted?'])) \\\n",
    "                                  for i in range(4)]\n",
    "mean_job_performance_per_month"
   ]
  },
  {
   "cell_type": "markdown",
   "metadata": {},
   "source": [
    "### We are setting a lower bound on each of the job targets to get our full job constraint matrix"
   ]
  },
  {
   "cell_type": "code",
   "execution_count": 30,
   "metadata": {},
   "outputs": [
    {
     "data": {
      "text/html": [
       "<div>\n",
       "<style scoped>\n",
       "    .dataframe tbody tr th:only-of-type {\n",
       "        vertical-align: middle;\n",
       "    }\n",
       "\n",
       "    .dataframe tbody tr th {\n",
       "        vertical-align: top;\n",
       "    }\n",
       "\n",
       "    .dataframe thead th {\n",
       "        text-align: right;\n",
       "    }\n",
       "</style>\n",
       "<table border=\"1\" class=\"dataframe\">\n",
       "  <thead>\n",
       "    <tr style=\"text-align: right;\">\n",
       "      <th></th>\n",
       "      <th>1</th>\n",
       "      <th>2</th>\n",
       "      <th>3</th>\n",
       "      <th>4</th>\n",
       "      <th>5</th>\n",
       "      <th>min_targets</th>\n",
       "    </tr>\n",
       "  </thead>\n",
       "  <tbody>\n",
       "    <tr>\n",
       "      <th>job A</th>\n",
       "      <td>0.093023</td>\n",
       "      <td>0.089623</td>\n",
       "      <td>0.073298</td>\n",
       "      <td>0.068966</td>\n",
       "      <td>0.063492</td>\n",
       "      <td>7</td>\n",
       "    </tr>\n",
       "    <tr>\n",
       "      <th>job B</th>\n",
       "      <td>0.059211</td>\n",
       "      <td>0.044374</td>\n",
       "      <td>0.079268</td>\n",
       "      <td>0.048611</td>\n",
       "      <td>0.064516</td>\n",
       "      <td>6</td>\n",
       "    </tr>\n",
       "    <tr>\n",
       "      <th>job C</th>\n",
       "      <td>0.057692</td>\n",
       "      <td>0.056291</td>\n",
       "      <td>0.018182</td>\n",
       "      <td>0.063492</td>\n",
       "      <td>0.000000</td>\n",
       "      <td>3</td>\n",
       "    </tr>\n",
       "    <tr>\n",
       "      <th>job D</th>\n",
       "      <td>0.054054</td>\n",
       "      <td>0.072727</td>\n",
       "      <td>0.000000</td>\n",
       "      <td>0.000000</td>\n",
       "      <td>0.047619</td>\n",
       "      <td>2</td>\n",
       "    </tr>\n",
       "  </tbody>\n",
       "</table>\n",
       "</div>"
      ],
      "text/plain": [
       "              1         2         3         4         5  min_targets\n",
       "job A  0.093023  0.089623  0.073298  0.068966  0.063492            7\n",
       "job B  0.059211  0.044374  0.079268  0.048611  0.064516            6\n",
       "job C  0.057692  0.056291  0.018182  0.063492  0.000000            3\n",
       "job D  0.054054  0.072727  0.000000  0.000000  0.047619            2"
      ]
     },
     "execution_count": 30,
     "metadata": {},
     "output_type": "execute_result"
    }
   ],
   "source": [
    "job_constraint_matrix['min_targets'] = mean_job_performance_per_month\n",
    "job_constraint_matrix"
   ]
  },
  {
   "cell_type": "markdown",
   "metadata": {},
   "source": [
    "#### Now, we want to find who performed the best for each position so we can encourage via other constraints, where recruiters should be devoting their phone time"
   ]
  },
  {
   "cell_type": "code",
   "execution_count": 31,
   "metadata": {},
   "outputs": [
    {
     "name": "stdout",
     "output_type": "stream",
     "text": [
      "This dictionary indicates who is best at recruiting certain jobs:\n",
      "\n"
     ]
    },
    {
     "data": {
      "text/plain": [
       "{'job A': ('Recruiter 1', 0.09302325581395349),\n",
       " 'job B': ('Recruiter 3', 0.07926829268292683),\n",
       " 'job C': ('Recruiter 4', 0.06349206349206349),\n",
       " 'job D': ('Recruiter 2', 0.07272727272727272)}"
      ]
     },
     "execution_count": 31,
     "metadata": {},
     "output_type": "execute_result"
    }
   ],
   "source": [
    "best_recruiters = {k:(f'Recruiter {v.index(max(v)) + 1}',max(v)) for k,v in rates.items()}\n",
    "print(f'This dictionary indicates who is best at recruiting certain jobs:\\n')\n",
    "best_recruiters"
   ]
  },
  {
   "cell_type": "markdown",
   "metadata": {},
   "source": [
    "### Since there are 4 jobs, if a certain recruiter performs best at a particular role, they will have to make sure that they meet at least 25% of the min target for that position"
   ]
  },
  {
   "cell_type": "raw",
   "metadata": {},
   "source": [
    "# this will be the format\n",
    "# the recruiter with the best recruitment ratios will have to devote at least 25% of their phone calls to that job:\n",
    "x_ij >= .25(min_target_job_j)"
   ]
  },
  {
   "cell_type": "markdown",
   "metadata": {},
   "source": [
    "# Our model:\n",
    "### Minimize:\n",
    "z = ΣXij where i is recruiters 1,2,3,4,5; j is jobs A,B,C,D; X is call matrix (each entry represents the entry corresponding to the number of phone calls each recruiter will make for a given job)\n",
    "### Subject to:\n",
    "rows of the Job coefficient matrix"
   ]
  },
  {
   "cell_type": "markdown",
   "metadata": {},
   "source": [
    "x_ij >= .25(min_target_job_j)"
   ]
  },
  {
   "cell_type": "markdown",
   "metadata": {},
   "source": [
    "x_i >= 0"
   ]
  },
  {
   "cell_type": "markdown",
   "metadata": {},
   "source": [
    "# Solving:"
   ]
  },
  {
   "cell_type": "code",
   "execution_count": 32,
   "metadata": {},
   "outputs": [],
   "source": [
    "from pulp import *\n",
    "\n",
    "x_names = []\n",
    "for i in range(1, 6):\n",
    "    x_names.append(['x_{}{}'.format(i,chr(ord('A')+j)) for j in range(4)])\n",
    "\n",
    "# note that we are already setting the non-negativity condition for the objective function\n",
    "x = [ LpVariable(x_names[i][j], lowBound = 0, cat = 'continuous') for i in range(5) for j in range(4) ]"
   ]
  },
  {
   "cell_type": "code",
   "execution_count": 33,
   "metadata": {},
   "outputs": [],
   "source": [
    "## creating an objective function\n",
    "objective_function = LpAffineExpression([ ( x[4*i+j], 1 ) for i in range(5) for j in range(4) ])"
   ]
  },
  {
   "cell_type": "code",
   "execution_count": 34,
   "metadata": {},
   "outputs": [],
   "source": [
    "LP_problem = pulp.LpProblem(\"Linear Optimization\", pulp.LpMinimize)\n",
    "LP_problem += objective_function, \"N\""
   ]
  },
  {
   "cell_type": "code",
   "execution_count": 35,
   "metadata": {},
   "outputs": [],
   "source": [
    "## constraints\n",
    "# taking coefficients from job_constraint_matrix for variables\n",
    "job_constraintsA = LpAffineExpression([ (x[4*j+0], job_constraint_matrix.iloc[0,j]) for j in range(5) ])\n",
    "job_constraintsB = LpAffineExpression([ (x[4*j+1], job_constraint_matrix.iloc[1,j]) for j in range(5) ])\n",
    "job_constraintsC = LpAffineExpression([ (x[4*j+2], job_constraint_matrix.iloc[2,j]) for j in range(5) ])\n",
    "job_constraintsD = LpAffineExpression([ (x[4*j+3], job_constraint_matrix.iloc[3,j]) for j in range(5) ])\n",
    "\n",
    "job_coefs_matrix = [job_constraintsA, job_constraintsB, job_constraintsC, job_constraintsD]"
   ]
  },
  {
   "cell_type": "code",
   "execution_count": 36,
   "metadata": {},
   "outputs": [],
   "source": [
    "# setting min_targets from job_constraint_matrix for the job coefficients matrix (job_coef_matrix)\n",
    "for i in range(4):\n",
    "    constraint_name = chr(ord('A')+i)\n",
    "    LP_problem += LpConstraint(e=job_coefs_matrix[i], # LHS vars\n",
    "                               sense=1, # GE\n",
    "                               name=f'coefs {constraint_name}', # name  \n",
    "                               rhs=job_constraint_matrix.iloc[i,5]) # RHS target"
   ]
  },
  {
   "cell_type": "code",
   "execution_count": 37,
   "metadata": {},
   "outputs": [],
   "source": [
    "## we also want 25% of the total calls made by the best recruiter for that job\n",
    "LP_problem += LpConstraint(e=LpAffineExpression([(x[0], 4) ]),\n",
    "                           sense=1,\n",
    "                           name='job A min proportion',\n",
    "                           rhs=LpAffineExpression([ (x[4*j+0], 1) for j in range(5) ])\n",
    "                          )\n",
    "\n",
    "LP_problem += LpConstraint(e=LpAffineExpression([(x[9], 4) ]),\n",
    "                           sense=1,\n",
    "                           name='job B min proportion',\n",
    "                           rhs=LpAffineExpression([ (x[4*j+1], 1) for j in range(5) ])\n",
    "                          )\n",
    "\n",
    "LP_problem += LpConstraint(e=LpAffineExpression([(x[14], 4) ]),\n",
    "                           sense=1,\n",
    "                           name='job C min proportion',\n",
    "                           rhs=LpAffineExpression([ (x[4*j+2], 1) for j in range(5) ]))\n",
    "LP_problem\n",
    "\n",
    "LP_problem += LpConstraint(e=LpAffineExpression([(x[7], 4) ]),\n",
    "                           sense=1,\n",
    "                           name='job D min proportion',\n",
    "                           rhs=LpAffineExpression([ (x[4*j+3], 1) for j in range(5) ]))"
   ]
  },
  {
   "cell_type": "code",
   "execution_count": 38,
   "metadata": {},
   "outputs": [],
   "source": [
    "# we want the recruiter with the best proporitions for job {letter}\n",
    "# to make at least 25% of the min required calls\n",
    "LP_problem += LpConstraint(e=LpAffineExpression([(x[0], 4) ]),\n",
    "                           sense=1,\n",
    "                           name='job A best: min target',\n",
    "                           rhs=job_constraint_matrix.iloc[0,5])\n",
    "\n",
    "LP_problem += LpConstraint(e=LpAffineExpression([(x[9], 4) ]),\n",
    "                           sense=1,\n",
    "                           name='job B best: min target',\n",
    "                           rhs=job_constraint_matrix.iloc[1,5])\n",
    "\n",
    "LP_problem += LpConstraint(e=LpAffineExpression([(x[14], 4) ]),\n",
    "                           sense=1,\n",
    "                           name='job C best: min target',\n",
    "                           rhs=job_constraint_matrix.iloc[2,5])\n",
    "\n",
    "LP_problem += LpConstraint(e=LpAffineExpression([(x[7], 4) ]),\n",
    "                           sense=1,\n",
    "                           name='job D best: min target',\n",
    "                           rhs=job_constraint_matrix.iloc[3,5])"
   ]
  },
  {
   "cell_type": "code",
   "execution_count": 39,
   "metadata": {},
   "outputs": [],
   "source": [
    "## none of the recruiters should exceed the 75% phone calls made in a month\n",
    "## we don't want to load the majority of the work onto one recruiter so they can do other things and not burn out\n",
    "outlier = total_per_month['phone'].describe()[6]\n",
    "for i in range(5):\n",
    "    curr_rec = LpAffineExpression( [ (x[4*i+j], 1) for j in range(4)])\n",
    "    LP_problem += LpConstraint(e=curr_rec, # LHS vars\n",
    "                               sense=-1, # LE\n",
    "                               name=f'recruiter {i+1} max', # name  \n",
    "                               rhs=outlier) # RHS target"
   ]
  },
  {
   "cell_type": "code",
   "execution_count": 40,
   "metadata": {},
   "outputs": [],
   "source": [
    "## non-negativity constraints\n",
    "for i in range(20):\n",
    "    curr_var = LpAffineExpression( [(x[i],1)] )\n",
    "    LP_problem += LpConstraint(e = curr_var,\n",
    "                              sense = 1,\n",
    "                              rhs = 0)"
   ]
  },
  {
   "cell_type": "code",
   "execution_count": 41,
   "metadata": {},
   "outputs": [
    {
     "name": "stdout",
     "output_type": "stream",
     "text": [
      "x_1A 74\n",
      "x_1B 0\n",
      "x_1C 0\n",
      "x_1D 0\n",
      "x_2A 2\n",
      "x_2B 0\n",
      "x_2C 0\n",
      "x_2D 28\n",
      "x_3A 0\n",
      "x_3B 74\n",
      "x_3C 0\n",
      "x_3D 0\n",
      "x_4A 0\n",
      "x_4B 0\n",
      "x_4C 48\n",
      "x_4D 0\n",
      "x_5A 0\n",
      "x_5B 3\n",
      "x_5C 0\n",
      "x_5D 0\n"
     ]
    }
   ],
   "source": [
    "LP_problem.solve()\n",
    "pulp.LpStatus[LP_problem.status]\n",
    "\n",
    "# since we can't make anything but integer phone calls\n",
    "for var in LP_problem.variables():\n",
    "    print(var.name, math.ceil(var.varValue))"
   ]
  },
  {
   "cell_type": "code",
   "execution_count": 42,
   "metadata": {},
   "outputs": [
    {
     "name": "stdout",
     "output_type": "stream",
     "text": [
      "We've reached the optimal solution.\n"
     ]
    }
   ],
   "source": [
    "# tells us about our particular LP problem: LP_problem.__dict__\n",
    "if LP_problem.status == 1:\n",
    "    print('We\\'ve reached the optimal solution.')"
   ]
  },
  {
   "cell_type": "code",
   "execution_count": null,
   "metadata": {},
   "outputs": [],
   "source": []
  }
 ],
 "metadata": {
  "kernelspec": {
   "display_name": "Python 3",
   "language": "python",
   "name": "python3"
  },
  "language_info": {
   "codemirror_mode": {
    "name": "ipython",
    "version": 3
   },
   "file_extension": ".py",
   "mimetype": "text/x-python",
   "name": "python",
   "nbconvert_exporter": "python",
   "pygments_lexer": "ipython3",
   "version": "3.6.8"
  }
 },
 "nbformat": 4,
 "nbformat_minor": 2
}
